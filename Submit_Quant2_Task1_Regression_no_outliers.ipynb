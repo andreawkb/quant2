{
 "cells": [
  {
   "cell_type": "markdown",
   "metadata": {},
   "source": [
    "## Task 1: Regression - Analysis without outliers"
   ]
  },
  {
   "cell_type": "markdown",
   "metadata": {},
   "source": [
    "Import libraries needed"
   ]
  },
  {
   "cell_type": "code",
   "execution_count": null,
   "metadata": {},
   "outputs": [],
   "source": [
    "import numpy as np \n",
    "import pandas as pd\n",
    "import matplotlib.pyplot as plt\n",
    "import seaborn as sns\n",
    "import janitor\n",
    "import pandas_flavor as pf\n",
    "import statsmodels.api as sm\n",
    "import impyute as impy\n",
    "from IPython.display import display\n",
    "from scipy import stats\n",
    "from statsmodels.compat import lzip\n",
    "import statsmodels.formula.api as smf\n",
    "import statsmodels.stats.api as sms"
   ]
  },
  {
   "cell_type": "markdown",
   "metadata": {},
   "source": [
    "Import cleaned dataset (no missing data but currently with outliers)"
   ]
  },
  {
   "cell_type": "code",
   "execution_count": null,
   "metadata": {},
   "outputs": [],
   "source": [
    "df = pd.read_csv('task1_clean_replaced_NaNs.csv')"
   ]
  },
  {
   "cell_type": "code",
   "execution_count": null,
   "metadata": {},
   "outputs": [],
   "source": [
    "df"
   ]
  },
  {
   "cell_type": "code",
   "execution_count": null,
   "metadata": {
    "scrolled": true
   },
   "outputs": [],
   "source": [
    "df.describe()"
   ]
  },
  {
   "cell_type": "markdown",
   "metadata": {},
   "source": [
    "Check data distribution of items using histograms"
   ]
  },
  {
   "cell_type": "code",
   "execution_count": null,
   "metadata": {
    "scrolled": true
   },
   "outputs": [],
   "source": [
    "plt.style.use('ggplot')\n",
    "plt.hist(df['NegEmot1'], bins=7)\n",
    "plt.show()\n",
    "\n",
    "plt.style.use('ggplot')\n",
    "plt.hist(df['NegEmot2'], bins=7)\n",
    "plt.show()\n",
    "\n",
    "plt.style.use('ggplot')\n",
    "plt.hist(df['NegEmot3'], bins=7)\n",
    "plt.show()"
   ]
  },
  {
   "cell_type": "code",
   "execution_count": null,
   "metadata": {},
   "outputs": [],
   "source": [
    "plt.style.use('ggplot')\n",
    "plt.hist(df['Egal1'], bins=6)\n",
    "plt.show()\n",
    "\n",
    "plt.style.use('ggplot')\n",
    "plt.hist(df['Egal2'], bins=5)\n",
    "plt.show()\n",
    "\n",
    "plt.style.use('ggplot')\n",
    "plt.hist(df['Egal3'], bins=6)\n",
    "plt.show()"
   ]
  },
  {
   "cell_type": "code",
   "execution_count": null,
   "metadata": {
    "scrolled": true
   },
   "outputs": [],
   "source": [
    "plt.style.use('ggplot')\n",
    "plt.hist(df['Ind1'], bins=7)\n",
    "plt.show()\n",
    "\n",
    "plt.style.use('ggplot')\n",
    "plt.hist(df['Ind2'], bins=6)\n",
    "plt.show()\n",
    "\n",
    "plt.style.use('ggplot')\n",
    "plt.hist(df['Ind3'], bins=7)\n",
    "plt.show()"
   ]
  },
  {
   "cell_type": "code",
   "execution_count": null,
   "metadata": {
    "scrolled": true
   },
   "outputs": [],
   "source": [
    "plt.style.use('ggplot')\n",
    "plt.hist(df['GovSupport1'], bins=7)\n",
    "plt.show()\n",
    "\n",
    "plt.style.use('ggplot')\n",
    "plt.hist(df['GovSupport2'], bins=6)\n",
    "plt.show()\n",
    "\n",
    "plt.style.use('ggplot')\n",
    "plt.hist(df['GovSupport3'], bins=7)\n",
    "plt.show()"
   ]
  },
  {
   "cell_type": "markdown",
   "metadata": {},
   "source": [
    "Data not normally distributed, but expected given data based on Likert scale..."
   ]
  },
  {
   "cell_type": "markdown",
   "metadata": {},
   "source": [
    "Use IQR/boxplots rather than z-score to visualise outliers in dataset because data not normally distributed"
   ]
  },
  {
   "cell_type": "code",
   "execution_count": null,
   "metadata": {},
   "outputs": [],
   "source": [
    "boxplot = df.boxplot(column=['NegEmot1', 'NegEmot2', 'NegEmot3'])\n",
    "plt.grid(b=None)\n",
    "plt.show()\n",
    "\n",
    "boxplot = df.boxplot(column=['Egal1', 'Egal2', 'Egal3'])\n",
    "plt.grid(b=None)\n",
    "plt.show()\n",
    "\n",
    "boxplot = df.boxplot(column=['Ind1', 'Ind2', 'Ind3'])\n",
    "plt.grid(b=None)\n",
    "plt.show()\n",
    "\n",
    "boxplot = df.boxplot(column=['GovSupport1', 'GovSupport2', 'GovSupport3'])\n",
    "plt.grid(b=None)\n",
    "plt.show()"
   ]
  },
  {
   "cell_type": "markdown",
   "metadata": {},
   "source": [
    "Drop all rows with outliers (data points outside of IQR)"
   ]
  },
  {
   "cell_type": "code",
   "execution_count": null,
   "metadata": {},
   "outputs": [],
   "source": [
    "df = df.drop(df[df.NegEmot3 < 2].index)\n",
    "df = df.drop(df[df.Egal1 < 4].index)\n",
    "df = df.drop(df[df.Egal2 < 4].index)\n",
    "df = df.drop(df[df.Egal3 < 4].index)\n",
    "df = df.drop(df[df.Ind1 > 4].index)\n",
    "df = df.drop(df[df.GovSupport1 < 2].index)"
   ]
  },
  {
   "cell_type": "code",
   "execution_count": null,
   "metadata": {
    "scrolled": false
   },
   "outputs": [],
   "source": [
    "df"
   ]
  },
  {
   "cell_type": "markdown",
   "metadata": {},
   "source": [
    "172 cases remaining (out of the original 212).\n",
    "\n",
    "Let's look at the summary."
   ]
  },
  {
   "cell_type": "code",
   "execution_count": null,
   "metadata": {},
   "outputs": [],
   "source": [
    "df.describe()"
   ]
  },
  {
   "cell_type": "markdown",
   "metadata": {},
   "source": [
    "Combine subscales before primary analysis"
   ]
  },
  {
   "cell_type": "code",
   "execution_count": null,
   "metadata": {},
   "outputs": [],
   "source": [
    "df['NegEmot'] = df[['NegEmot1', 'NegEmot2', 'NegEmot3']].mean(axis=1)\n",
    "df['Egalitarianism'] = df[['Egal1', 'Egal2', 'Egal3']].mean(axis=1)\n",
    "df['Individualism'] = df[['Ind1', 'Ind2', 'Ind3']].mean(axis=1)\n",
    "df['GovSupport'] = df[['GovSupport1', 'GovSupport2', 'GovSupport3']].mean(axis=1)\n",
    "\n",
    "df"
   ]
  },
  {
   "cell_type": "markdown",
   "metadata": {},
   "source": [
    "Variables now calculated and combined, drop original subscales so that new dataframe only contains calculated variables"
   ]
  },
  {
   "cell_type": "code",
   "execution_count": null,
   "metadata": {},
   "outputs": [],
   "source": [
    "df1 = df.iloc[:,[1, 2, 3, 16, 17, 18, 19]]\n",
    "df1"
   ]
  },
  {
   "cell_type": "markdown",
   "metadata": {},
   "source": [
    "Save a csv copy"
   ]
  },
  {
   "cell_type": "code",
   "execution_count": null,
   "metadata": {},
   "outputs": [],
   "source": [
    "#df1.to_csv('task1_data_clean_no_outliers.ready.csv')"
   ]
  },
  {
   "cell_type": "markdown",
   "metadata": {},
   "source": [
    "## Primary Analysis (without outliers)"
   ]
  },
  {
   "cell_type": "markdown",
   "metadata": {},
   "source": [
    "Plot a scatterplot to visualise relationship between NegEmot and GovSupport"
   ]
  },
  {
   "cell_type": "code",
   "execution_count": null,
   "metadata": {},
   "outputs": [],
   "source": [
    "plt.scatter(x=df1['NegEmot'], y=df1['GovSupport'])\n",
    "plt.xlabel('NegEmot')\n",
    "plt.ylabel('GovSupport')\n",
    "plt.show()"
   ]
  },
  {
   "cell_type": "markdown",
   "metadata": {},
   "source": [
    "Let's plot a line of best fit and see"
   ]
  },
  {
   "cell_type": "code",
   "execution_count": null,
   "metadata": {},
   "outputs": [],
   "source": [
    "x = df1['NegEmot']\n",
    "y = df1['GovSupport']\n",
    "m, b = np.polyfit(x,y,1)\n",
    "plt.plot(x, y, 'o')\n",
    "plt.plot(x, m*x + b)\n",
    "plt.xlabel('NegEmot')\n",
    "plt.ylabel('GovSupport')\n",
    "plt.show()"
   ]
  },
  {
   "cell_type": "markdown",
   "metadata": {},
   "source": [
    "Run correlation to see if the two are correlated"
   ]
  },
  {
   "cell_type": "code",
   "execution_count": null,
   "metadata": {},
   "outputs": [],
   "source": [
    "stats.pearsonr(df1['NegEmot'], df1['GovSupport'])"
   ]
  },
  {
   "cell_type": "markdown",
   "metadata": {},
   "source": [
    "Check if x variables are correlated (multicollinearity)"
   ]
  },
  {
   "cell_type": "code",
   "execution_count": null,
   "metadata": {},
   "outputs": [],
   "source": [
    "df1.corr()"
   ]
  },
  {
   "cell_type": "markdown",
   "metadata": {},
   "source": [
    "Not really. Let's test the assumptions in R and then run the regression models"
   ]
  },
  {
   "cell_type": "markdown",
   "metadata": {},
   "source": [
    "## Model 1 - NegEmot and GovSupport (no outliers)"
   ]
  },
  {
   "cell_type": "code",
   "execution_count": null,
   "metadata": {},
   "outputs": [],
   "source": [
    "results = smf.ols('GovSupport ~ NegEmot', data=df1).fit()\n",
    "print(results.summary())"
   ]
  },
  {
   "cell_type": "markdown",
   "metadata": {},
   "source": [
    "## Model 2 - Control for Egal and Ind (no outliers)"
   ]
  },
  {
   "cell_type": "markdown",
   "metadata": {},
   "source": [
    "Check VIF first"
   ]
  },
  {
   "cell_type": "code",
   "execution_count": null,
   "metadata": {},
   "outputs": [],
   "source": [
    "from statsmodels.stats.outliers_influence import variance_inflation_factor"
   ]
  },
  {
   "cell_type": "code",
   "execution_count": null,
   "metadata": {},
   "outputs": [],
   "source": [
    "X = df1[['NegEmot', 'Egalitarianism', 'Individualism']]\n",
    "X['Intercept'] = 1\n",
    "\n",
    "vif = pd.DataFrame()\n",
    "vif[\"variables\"] = X.columns\n",
    "vif[\"VIF\"] = [variance_inflation_factor(X.values, i) for i in range(X.shape[1])]\n",
    "\n",
    "print(vif)"
   ]
  },
  {
   "cell_type": "markdown",
   "metadata": {},
   "source": [
    "Run regression model 2"
   ]
  },
  {
   "cell_type": "code",
   "execution_count": null,
   "metadata": {},
   "outputs": [],
   "source": [
    "results2 = smf.ols('GovSupport ~ NegEmot+Egalitarianism+Individualism', data=df1).fit()\n",
    "print(results2.summary())"
   ]
  },
  {
   "cell_type": "markdown",
   "metadata": {},
   "source": [
    "## Model 3 - all x variables included (no outliers)"
   ]
  },
  {
   "cell_type": "markdown",
   "metadata": {},
   "source": [
    "Check VIF"
   ]
  },
  {
   "cell_type": "code",
   "execution_count": null,
   "metadata": {},
   "outputs": [],
   "source": [
    "X = df1[['NegEmot', 'Egalitarianism', 'Individualism', 'AGE', 'GENDER']]\n",
    "X['Intercept'] = 1\n",
    "\n",
    "vif = pd.DataFrame()\n",
    "vif[\"variables\"] = X.columns\n",
    "vif[\"VIF\"] = [variance_inflation_factor(X.values, i) for i in range(X.shape[1])]\n",
    "\n",
    "print(vif)"
   ]
  },
  {
   "cell_type": "code",
   "execution_count": null,
   "metadata": {},
   "outputs": [],
   "source": [
    "results3 = smf.ols('GovSupport ~ NegEmot+Egalitarianism+Individualism+AGE+GENDER', data=df1).fit()\n",
    "print(results3.summary())"
   ]
  },
  {
   "cell_type": "markdown",
   "metadata": {},
   "source": [
    "Out of interest let's plot GovSupport against Egal and see what happens"
   ]
  },
  {
   "cell_type": "code",
   "execution_count": null,
   "metadata": {},
   "outputs": [],
   "source": [
    "x = df1['Egalitarianism']\n",
    "y = df1['GovSupport']\n",
    "m, b = np.polyfit(x,y,1)\n",
    "plt.plot(x, y, 'o')\n",
    "plt.plot(x, m*x + b)\n",
    "plt.xlabel('Egalitarianism')\n",
    "plt.ylabel('GovSupport')\n",
    "plt.show()"
   ]
  },
  {
   "cell_type": "code",
   "execution_count": null,
   "metadata": {},
   "outputs": [],
   "source": []
  }
 ],
 "metadata": {
  "kernelspec": {
   "display_name": "Python 3",
   "language": "python",
   "name": "python3"
  },
  "language_info": {
   "codemirror_mode": {
    "name": "ipython",
    "version": 3
   },
   "file_extension": ".py",
   "mimetype": "text/x-python",
   "name": "python",
   "nbconvert_exporter": "python",
   "pygments_lexer": "ipython3",
   "version": "3.7.7"
  }
 },
 "nbformat": 4,
 "nbformat_minor": 2
}
