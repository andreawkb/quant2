{
 "cells": [
  {
   "cell_type": "markdown",
   "metadata": {},
   "source": [
    "# Task 1 - Data screening and cleaning"
   ]
  },
  {
   "cell_type": "markdown",
   "metadata": {},
   "source": [
    "Install libraries needed"
   ]
  },
  {
   "cell_type": "code",
   "execution_count": null,
   "metadata": {},
   "outputs": [],
   "source": [
    "import numpy as np \n",
    "import pandas as pd\n",
    "import matplotlib.pyplot as plt\n",
    "import seaborn as sns\n",
    "import janitor\n",
    "import pandas_flavor as pf\n",
    "import statsmodels.api as sm\n",
    "import impyute as impy\n",
    "from IPython.display import display\n",
    "from scipy import stats\n",
    "from statsmodels.compat import lzip\n",
    "import statsmodels.formula.api as smf\n",
    "import statsmodels.stats.api as sms"
   ]
  },
  {
   "cell_type": "markdown",
   "metadata": {},
   "source": [
    "Import data by importing the csv file as pandas dataframe.\n",
    "Raw data has already been visually inspected and any coding errors rectified.\n",
    "Incorrectly coded values (cases 134, 216 and 222) have been updated (decimals removed and duplication removed).\n",
    "Import 'T1.Raw data_v2.csv'"
   ]
  },
  {
   "cell_type": "code",
   "execution_count": null,
   "metadata": {},
   "outputs": [],
   "source": [
    "df = pd.read_csv('T1.Raw data_v2.csv')"
   ]
  },
  {
   "cell_type": "markdown",
   "metadata": {},
   "source": [
    "I want to see all rows and columns displayed to visually inspect the data"
   ]
  },
  {
   "cell_type": "code",
   "execution_count": null,
   "metadata": {
    "scrolled": true
   },
   "outputs": [],
   "source": [
    "pd.options.display.max_columns = None\n",
    "pd.options.display.max_rows = None\n",
    "display(df)"
   ]
  },
  {
   "cell_type": "markdown",
   "metadata": {},
   "source": [
    "Visually inspect data. N=212. Some age values have been replaced by the mean. Some cases seem to have been removed? \n",
    "999 denotes missing value.\n",
    "Let's look at a summary of the dataset."
   ]
  },
  {
   "cell_type": "code",
   "execution_count": null,
   "metadata": {},
   "outputs": [],
   "source": [
    "df.describe()"
   ]
  },
  {
   "cell_type": "markdown",
   "metadata": {},
   "source": [
    "Python not recognising 999 as missing values. This is problematic - descriptive data is skewed as a result (i.e. mean, max, etc.).\n",
    "Need to replace 999 with NaN.\n",
    "Let's check if there are any duplicates first."
   ]
  },
  {
   "cell_type": "code",
   "execution_count": null,
   "metadata": {
    "scrolled": true
   },
   "outputs": [],
   "source": [
    "df.duplicated()\n"
   ]
  },
  {
   "cell_type": "markdown",
   "metadata": {},
   "source": [
    "No duplication. Replace 999 with NaN.\n",
    "\n",
    "df = missing data still displayed as 999\n",
    "df2 = missing data replaced with NaN"
   ]
  },
  {
   "cell_type": "code",
   "execution_count": null,
   "metadata": {
    "scrolled": true
   },
   "outputs": [],
   "source": [
    "df2 = df.replace (999, np.nan)\n",
    "df2\n"
   ]
  },
  {
   "cell_type": "markdown",
   "metadata": {},
   "source": [
    "Missing data found in variables Egal1, Egal2, Ind2, Ind3, GovSupport2.\n",
    "\n",
    "Hmm, variables with missing data have been converted to floats. Let's check the data types."
   ]
  },
  {
   "cell_type": "code",
   "execution_count": null,
   "metadata": {
    "scrolled": true
   },
   "outputs": [],
   "source": [
    "print(df2.dtypes)"
   ]
  },
  {
   "cell_type": "markdown",
   "metadata": {},
   "source": [
    "Let's check summary of data again. Counts should exclude missing data. Mean, max etc. should also be fixed."
   ]
  },
  {
   "cell_type": "code",
   "execution_count": null,
   "metadata": {
    "scrolled": true
   },
   "outputs": [],
   "source": [
    "df2.describe()"
   ]
  },
  {
   "cell_type": "markdown",
   "metadata": {},
   "source": [
    "Let's find out how many missing values there are per variable/column."
   ]
  },
  {
   "cell_type": "code",
   "execution_count": null,
   "metadata": {
    "scrolled": true
   },
   "outputs": [],
   "source": [
    "df2.isnull().sum(axis=0)"
   ]
  },
  {
   "cell_type": "markdown",
   "metadata": {},
   "source": [
    "Let's find out where the missing data are exactly"
   ]
  },
  {
   "cell_type": "code",
   "execution_count": null,
   "metadata": {},
   "outputs": [],
   "source": [
    "is_NaN = df2.isnull()\n",
    "row_has_NaN = is_NaN.any(axis=1)\n",
    "rows_with_NaN = df2[row_has_NaN]\n",
    "print(rows_with_NaN)"
   ]
  },
  {
   "cell_type": "markdown",
   "metadata": {},
   "source": [
    "Ok, rows with missing data = 3,6,14,17,24,31,38,168.\n",
    "Total number of missing values is quite low = 8.\n",
    "Let's double check this."
   ]
  },
  {
   "cell_type": "code",
   "execution_count": null,
   "metadata": {},
   "outputs": [],
   "source": [
    "df2.isnull().sum().sum()"
   ]
  },
  {
   "cell_type": "markdown",
   "metadata": {},
   "source": [
    "8 missing values; but out of how many?"
   ]
  },
  {
   "cell_type": "code",
   "execution_count": null,
   "metadata": {},
   "outputs": [],
   "source": [
    "df2.count().sum()"
   ]
  },
  {
   "cell_type": "markdown",
   "metadata": {
    "scrolled": true
   },
   "source": [
    "3172+8=3180 (total values in dataset). 8/3180*100=0.25%.\n",
    "\n",
    "Overall missingness is 0.25%, so very low (<1%)\n",
    "\n",
    "Need to find out rates of missingness. Let's find out the rates of missingness per variable/column first.\n"
   ]
  },
  {
   "cell_type": "code",
   "execution_count": null,
   "metadata": {},
   "outputs": [],
   "source": [
    "#df2_missing.dtypes\n",
    "\n",
    "df2.isnull().dtypes"
   ]
  },
  {
   "cell_type": "markdown",
   "metadata": {},
   "source": [
    "Find out total number of missing values per variable using sum"
   ]
  },
  {
   "cell_type": "code",
   "execution_count": null,
   "metadata": {},
   "outputs": [],
   "source": [
    "df2_num_missing = df2.isnull().sum(axis=0)\n",
    "df2_num_missing"
   ]
  },
  {
   "cell_type": "markdown",
   "metadata": {},
   "source": [
    "I can now see total number of missing values per variable. Double check number of cases in total so that we can calculate rate of missingness."
   ]
  },
  {
   "cell_type": "code",
   "execution_count": null,
   "metadata": {},
   "outputs": [],
   "source": [
    "len(df2)"
   ]
  },
  {
   "cell_type": "markdown",
   "metadata": {},
   "source": [
    "Divide each value by number of cases to calculate percentage of missingness for each variable."
   ]
  },
  {
   "cell_type": "code",
   "execution_count": null,
   "metadata": {},
   "outputs": [],
   "source": [
    "df2_num_missing_variable = (df2_num_missing / len(df2))*100\n",
    "df2_num_missing_variable"
   ]
  },
  {
   "cell_type": "markdown",
   "metadata": {},
   "source": [
    "Range of missingness for variables = 0.47% to 1.41%. \n",
    "\n",
    "Now calculate mean (divided by total number of variables)\n"
   ]
  },
  {
   "cell_type": "markdown",
   "metadata": {},
   "source": [
    "Sum divided by number of variables with missing values = mean"
   ]
  },
  {
   "cell_type": "code",
   "execution_count": null,
   "metadata": {
    "scrolled": true
   },
   "outputs": [],
   "source": [
    "df2_num_missing_variable.sum()/5"
   ]
  },
  {
   "cell_type": "markdown",
   "metadata": {},
   "source": [
    "Now calculate rates of missingness for cases. First bring up number of missing values for rows (cases)."
   ]
  },
  {
   "cell_type": "code",
   "execution_count": null,
   "metadata": {
    "scrolled": true
   },
   "outputs": [],
   "source": [
    "df2.isnull().sum(axis=1)"
   ]
  },
  {
   "cell_type": "markdown",
   "metadata": {},
   "source": [
    "Divide number of missing values by number of variables for rate of missingness"
   ]
  },
  {
   "cell_type": "code",
   "execution_count": null,
   "metadata": {},
   "outputs": [],
   "source": [
    "df2_num_missing_case = df2.isnull().sum(axis=1)\n",
    "df2_num_missing_case_all = (df2_num_missing_case/len(df2.columns))*100\n",
    "df2_num_missing_case_all"
   ]
  },
  {
   "cell_type": "markdown",
   "metadata": {},
   "source": [
    "Looks like there is only 1 missing value per case max.\n",
    "\n",
    "Calculate mean of rates of missingness for cases.\n"
   ]
  },
  {
   "cell_type": "code",
   "execution_count": null,
   "metadata": {},
   "outputs": [],
   "source": [
    "df2_num_missing_case_all.sum()/8"
   ]
  },
  {
   "cell_type": "markdown",
   "metadata": {},
   "source": [
    "Need to do Little's MCAR test in R as not available in Python.\n",
    "\n",
    "In R, littleMCAR test result: p value = 0.057, borderline significant. Rounded to 0.06, so > 0.05; null hypothesis cannot be rejected. Missing data therefore missing completely at random.\n",
    "\n",
    "Replace missing values with mean of participant's relevant subscales in dataset (v2).\n",
    "Export dataset to csv to replace NaNs with participant's mean.\n",
    "\n"
   ]
  },
  {
   "cell_type": "code",
   "execution_count": null,
   "metadata": {},
   "outputs": [],
   "source": [
    "#df2.to_csv('task1_clean_without_NaNs.csv')"
   ]
  },
  {
   "cell_type": "markdown",
   "metadata": {},
   "source": [
    "NaNs substituted with participants' mean calculated from relevant subscale"
   ]
  },
  {
   "cell_type": "code",
   "execution_count": null,
   "metadata": {
    "scrolled": true
   },
   "outputs": [],
   "source": [
    "df3 = pd.read_csv('task1_clean_replaced_NaNs.csv')\n",
    "df3"
   ]
  },
  {
   "cell_type": "markdown",
   "metadata": {},
   "source": [
    "Double check there are definitely no more missing values."
   ]
  },
  {
   "cell_type": "code",
   "execution_count": null,
   "metadata": {
    "scrolled": true
   },
   "outputs": [],
   "source": [
    "df3.isnull().sum(axis=1)"
   ]
  },
  {
   "cell_type": "markdown",
   "metadata": {},
   "source": [
    "Check for outliers using boxplots"
   ]
  },
  {
   "cell_type": "code",
   "execution_count": null,
   "metadata": {},
   "outputs": [],
   "source": [
    "boxplot = df3.boxplot(column=['NegEmot1', 'NegEmot2', 'NegEmot3'])\n",
    "plt.grid(b=None)\n",
    "plt.show()\n",
    "\n",
    "boxplot = df3.boxplot(column=['Egal1', 'Egal2', 'Egal3'])\n",
    "plt.grid(b=None)\n",
    "plt.show()\n",
    "\n",
    "boxplot = df3.boxplot(column=['Ind1', 'Ind2', 'Ind3'])\n",
    "plt.grid(b=None)\n",
    "plt.show()\n",
    "\n",
    "boxplot = df3.boxplot(column=['GovSupport1', 'GovSupport2', 'GovSupport3'])\n",
    "plt.grid(b=None)\n",
    "plt.show()\n"
   ]
  },
  {
   "cell_type": "markdown",
   "metadata": {},
   "source": [
    "Some outliers are present, none for NegEmot1,2,3; few for GovSupport1. \n",
    "\n",
    "Let's run the analysis with and without outliers and see what happens."
   ]
  },
  {
   "cell_type": "markdown",
   "metadata": {},
   "source": [
    "Data cleaning and prep now complete.\n",
    "\n",
    "Now combine subscales before analysis."
   ]
  },
  {
   "cell_type": "code",
   "execution_count": null,
   "metadata": {},
   "outputs": [],
   "source": [
    "df3['NegEmot'] = df3[['NegEmot1', 'NegEmot2', 'NegEmot3']].mean(axis=1)\n",
    "df3['Egalitarianism'] = df3[['Egal1', 'Egal2', 'Egal3']].mean(axis=1)\n",
    "df3['Individualism'] = df3[['Ind1', 'Ind2', 'Ind3']].mean(axis=1)\n",
    "df3['GovSupport'] = df3[['GovSupport1', 'GovSupport2', 'GovSupport3']].mean(axis=1)\n",
    "\n",
    "\n",
    "df3"
   ]
  },
  {
   "cell_type": "markdown",
   "metadata": {},
   "source": [
    "Variables now combined. Drop subscales so that new dataframe only contains calculated variables.\n",
    "\n",
    "Calculated variables [NegEmot, Egalitarianism, Individualism, GovSupport]."
   ]
  },
  {
   "cell_type": "code",
   "execution_count": null,
   "metadata": {
    "scrolled": true
   },
   "outputs": [],
   "source": [
    "df4 = df3.iloc[:,[1, 2, 3, 16, 17, 18, 19]]\n",
    "df4"
   ]
  },
  {
   "cell_type": "markdown",
   "metadata": {},
   "source": [
    "Export clean and combined data as csv file ready for primary analysis (with outliers)"
   ]
  },
  {
   "cell_type": "code",
   "execution_count": null,
   "metadata": {},
   "outputs": [],
   "source": [
    "#df4.to_csv('task1_data_clean_ready.csv')"
   ]
  },
  {
   "cell_type": "markdown",
   "metadata": {},
   "source": [
    "Data cleaning and prep complete. "
   ]
  },
  {
   "cell_type": "code",
   "execution_count": null,
   "metadata": {},
   "outputs": [],
   "source": []
  }
 ],
 "metadata": {
  "kernelspec": {
   "display_name": "Python 3",
   "language": "python",
   "name": "python3"
  },
  "language_info": {
   "codemirror_mode": {
    "name": "ipython",
    "version": 3
   },
   "file_extension": ".py",
   "mimetype": "text/x-python",
   "name": "python",
   "nbconvert_exporter": "python",
   "pygments_lexer": "ipython3",
   "version": "3.7.7"
  }
 },
 "nbformat": 4,
 "nbformat_minor": 2
}
